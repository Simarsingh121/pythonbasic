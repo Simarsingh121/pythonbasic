{
  "nbformat": 4,
  "nbformat_minor": 0,
  "metadata": {
    "colab": {
      "provenance": []
    },
    "kernelspec": {
      "name": "python3",
      "display_name": "Python 3"
    },
    "language_info": {
      "name": "python"
    }
  },
  "cells": [
    {
      "cell_type": "markdown",
      "source": [
        "# **python basic questions**\n",
        "\n",
        "1. What is Python, and why is it popular ?\n",
        "  - Python is a high-level, easy-to-read programming language used for many purposes like web development, data analysis, AI, and automation. It’s popular because it’s simple to learn, has huge community support, and comes with a large set of ready-to-use libraries.\n",
        "\n",
        "2. What is an interpreter in Python?\n",
        " -  An interpreter is a program that reads and executes Python code line by line instead of compiling the whole code at once.\n",
        "\n",
        "3. What are pre-defined keywords in Python?\n",
        " - hese are special words that Python has reserved for its own use, like if, else, while, and def. You can’t use them as variable names.\n",
        "\n",
        "4. Can keywords be used as variable names?\n",
        " - No, because they have fixed meanings in Python and are part of the language’s syntax.\n",
        "\n",
        "5. What is mutability in Python?\n",
        " - Mutability means whether an object’s content can be changed after it’s created. If it can, it’s mutable; if not, it’s immutable.\n",
        "\n",
        "6. Why are lists mutable, but tuples are immutable?\n",
        " -  Lists are designed for situations where data might change, so you can add, remove, or modify items. Tuples are meant for fixed data, so once created, they can’t be changed.\n",
        "\n",
        "7. What is the difference between == and is operators in Python?\n",
        " - '==' checks if the values are the same.        \n",
        "   'is' checks if both variables point to the exact same object in memory.\n",
        "\n",
        "8. What are logical operators in Python?\n",
        " - They’re used to combine conditions:\n",
        "\n",
        "    1. and → True if both conditions are true\n",
        "\n",
        "     2. or → True if at least one condition is true\n",
        "\n",
        "     3. not → Reverses the condition’s result\n",
        "\n",
        "9. What is type casting in Python?\n",
        " - It’s changing the data type of a value from one type to another, like from int to float or str.\n",
        "\n",
        "10.  What is the difference between implicit and explicit type casting?\n",
        " - implicit: Python automatically changes the type when needed (e.g., adding an int and a float).\n",
        "\n",
        "  - Explicit: You manually convert the type using functions like int(), float(), or str().\n",
        "\n",
        "11. What is the purpose of conditional statements in Python?\n",
        " - Conditional statements let your program make decisions. They check if a condition is true or false and then run specific code based on that result. For example, you can use them to display “Pass” if a student’s marks are above 40 and “Fail” if not.\n",
        "\n",
        "12. How does the elif statement work?\n",
        " - elif stands for “else if.” It’s used when you have multiple conditions to check. Python will test them in order — if the first if is false, it moves to the elif. If the elif is true, its code runs, and the rest are skipped.\n",
        "\n",
        "13. What is the difference between for and while loops?\n",
        "  - or loop is used when you know how many times you want to repeat something, like going through each item in a list.\n",
        "\n",
        "  - while loop runs as long as a certain condition stays true, which is useful when the number of repetitions isn’t fixed.\n",
        "\n",
        "14. Describe a scenario where a while loop is more suitable than a for loop.\n",
        "\n",
        " - A while loop is better when you don’t know exactly how many times the loop will run. For example, if you’re making a program that keeps asking the user to guess a number until they get it right, you can’t decide in advance how many tries they’ll need. A while loop will keep going until the correct guess is made.\n",
        "  "
      ],
      "metadata": {
        "id": "hUhRNMmQBZq9"
      }
    },
    {
      "cell_type": "code",
      "execution_count": null,
      "metadata": {
        "id": "P20rc_nLBEye"
      },
      "outputs": [],
      "source": []
    },
    {
      "cell_type": "markdown",
      "source": [
        "## **practical questions**"
      ],
      "metadata": {
        "id": "jC1TV6mNIZfD"
      }
    },
    {
      "cell_type": "markdown",
      "source": [
        "\n"
      ],
      "metadata": {
        "id": "EqYEywTfG4VW"
      }
    },
    {
      "cell_type": "markdown",
      "source": [
        "1.\n",
        " Write a Python program to print \"Hello, World!\n"
      ],
      "metadata": {
        "id": "05n3V6OpIlLD"
      }
    },
    {
      "cell_type": "code",
      "source": [
        "print(\"Hello, World!\")\n"
      ],
      "metadata": {
        "id": "PUecfymmIscG"
      },
      "execution_count": null,
      "outputs": []
    },
    {
      "cell_type": "markdown",
      "source": [
        "2. Write a Python program that displays your name and age"
      ],
      "metadata": {
        "id": "tK_kzFnQI0OS"
      }
    },
    {
      "cell_type": "code",
      "source": [
        "name = \"Simar Singh\"\n",
        "age = 20\n",
        "print(\"Name:\", name)\n",
        "print(\"Age:\", age)\n"
      ],
      "metadata": {
        "id": "GfVTUamtG2bW"
      },
      "execution_count": null,
      "outputs": []
    },
    {
      "cell_type": "markdown",
      "source": [
        "3.  Write code to print all the pre-defined keywords in Python using the keyword library"
      ],
      "metadata": {
        "id": "H2U84aYVJDG1"
      }
    },
    {
      "cell_type": "code",
      "source": [
        "import keyword\n",
        "print(keyword.kwlist)\n"
      ],
      "metadata": {
        "colab": {
          "base_uri": "https://localhost:8080/"
        },
        "collapsed": true,
        "id": "3SbIH-kTI8iK",
        "outputId": "99e79143-2012-499e-c5cd-0ffe9ab5618a"
      },
      "execution_count": 1,
      "outputs": [
        {
          "output_type": "stream",
          "name": "stdout",
          "text": [
            "['False', 'None', 'True', 'and', 'as', 'assert', 'async', 'await', 'break', 'class', 'continue', 'def', 'del', 'elif', 'else', 'except', 'finally', 'for', 'from', 'global', 'if', 'import', 'in', 'is', 'lambda', 'nonlocal', 'not', 'or', 'pass', 'raise', 'return', 'try', 'while', 'with', 'yield']\n"
          ]
        }
      ]
    },
    {
      "cell_type": "code",
      "source": [],
      "metadata": {
        "id": "lpAk8cmgJvGJ"
      },
      "execution_count": null,
      "outputs": []
    },
    {
      "cell_type": "markdown",
      "source": [
        "4. Write a program that checks if a given word is a Python keyword."
      ],
      "metadata": {
        "id": "RxpTTyS-J0Wm"
      }
    },
    {
      "cell_type": "code",
      "source": [
        "import keyword\n",
        "\n",
        "word = input(\"Enter a word: \")\n",
        "if keyword.iskeyword(word):\n",
        "    print(word, \"is a Python keyword.\")\n",
        "else:\n",
        "    print(word, \"is not a Python keyword.\")\n"
      ],
      "metadata": {
        "colab": {
          "base_uri": "https://localhost:8080/"
        },
        "id": "nu4revFKJ4ge",
        "outputId": "d84b69f7-8fc8-46c6-c997-249e7973e72d"
      },
      "execution_count": 2,
      "outputs": [
        {
          "output_type": "stream",
          "name": "stdout",
          "text": [
            "Enter a word: hrr\n",
            "hrr is not a Python keyword.\n"
          ]
        }
      ]
    },
    {
      "cell_type": "markdown",
      "source": [
        "5. Create a list and tuple in Python, and demonstrate how attempting to change an element works differently\n",
        "for each."
      ],
      "metadata": {
        "id": "wSM7SzokJ_L4"
      }
    },
    {
      "cell_type": "code",
      "source": [
        "def modify_list(my_list):\n",
        "    my_list.append(10)\n",
        "\n",
        "def modify_number(num):\n",
        "    num += 5\n",
        "    return num\n",
        "numbers = [1, 2, 3]\n",
        "modify_list(numbers)\n",
        "print(\"List after modification:\", numbers)\n",
        "x = 5\n",
        "x = modify_number(x)\n",
        "print(\"Number after modification:\", x)\n"
      ],
      "metadata": {
        "colab": {
          "base_uri": "https://localhost:8080/"
        },
        "id": "CYimAsd7KFYh",
        "outputId": "bd442935-438b-49bb-ef10-e9b63e6aa991"
      },
      "execution_count": 3,
      "outputs": [
        {
          "output_type": "stream",
          "name": "stdout",
          "text": [
            "List after modification: [1, 2, 3, 10]\n",
            "Number after modification: 10\n"
          ]
        }
      ]
    },
    {
      "cell_type": "markdown",
      "source": [
        " 6. Write a function to demonstrate the behavior of mutable and immutable arguments."
      ],
      "metadata": {
        "id": "NGuO-uMfKSkb"
      }
    },
    {
      "cell_type": "code",
      "source": [
        "a = float(input(\"Enter first number: \"))\n",
        "b = float(input(\"Enter second number: \"))\n",
        "\n",
        "print(\"Addition:\", a + b)\n",
        "print(\"Subtraction:\", a - b)\n",
        "print(\"Multiplication:\", a * b)\n",
        "print(\"Division:\", a / b)\n"
      ],
      "metadata": {
        "colab": {
          "base_uri": "https://localhost:8080/"
        },
        "id": "V1bV-0lWKVz-",
        "outputId": "070d5474-213b-4467-a16d-7481ae62df0d"
      },
      "execution_count": 4,
      "outputs": [
        {
          "output_type": "stream",
          "name": "stdout",
          "text": [
            "Enter first number: 6\n",
            "Enter second number: 8\n",
            "Addition: 14.0\n",
            "Subtraction: -2.0\n",
            "Multiplication: 48.0\n",
            "Division: 0.75\n"
          ]
        }
      ]
    },
    {
      "cell_type": "markdown",
      "source": [
        " 7. Write a program that performs basic arithmetic operations on two user-input numbers."
      ],
      "metadata": {
        "id": "ISGKvC08KbMd"
      }
    },
    {
      "cell_type": "code",
      "source": [
        "x = 5\n",
        "y = 10\n",
        "\n",
        "print(x > 3 and y > 5)   # True\n",
        "print(x > 10 or y > 5)  # True\n",
        "print(not(x > 3))       # False\n"
      ],
      "metadata": {
        "colab": {
          "base_uri": "https://localhost:8080/"
        },
        "id": "DaNMijUtKhvI",
        "outputId": "30945ea9-e2a0-4880-9e94-9bae4c69738b"
      },
      "execution_count": 5,
      "outputs": [
        {
          "output_type": "stream",
          "name": "stdout",
          "text": [
            "True\n",
            "True\n",
            "False\n"
          ]
        }
      ]
    },
    {
      "cell_type": "markdown",
      "source": [
        "8.  Write a program to demonstrate the use of logical operators."
      ],
      "metadata": {
        "id": "2Ici-PkEON48"
      }
    },
    {
      "cell_type": "code",
      "source": [
        "my_list = [1, 2, 3]\n",
        "my_tuple = (1, 2, 3)\n",
        "\n",
        "\n",
        "my_list[0] = 10\n",
        "print(\"List after change:\", my_list)\n",
        "try:\n",
        "    my_tuple[0] = 10\n",
        "except TypeError:\n",
        "    print(\"Tuples cannot be changed.\")\n"
      ],
      "metadata": {
        "colab": {
          "base_uri": "https://localhost:8080/"
        },
        "id": "0UFpRvkXOSZc",
        "outputId": "cf31525b-2a51-4658-dbf9-d243dc1b15e5"
      },
      "execution_count": 6,
      "outputs": [
        {
          "output_type": "stream",
          "name": "stdout",
          "text": [
            "List after change: [10, 2, 3]\n",
            "Tuples cannot be changed.\n"
          ]
        }
      ]
    },
    {
      "cell_type": "markdown",
      "source": [
        "9.  Write a Python program to convert user input from string to integer, float, and boolean types.\n",
        "\n"
      ],
      "metadata": {
        "id": "2kgTmt3kOaTb"
      }
    },
    {
      "cell_type": "code",
      "source": [
        "value = input(\"Enter something: \")\n",
        "\n",
        "int_val = int(value)\n",
        "float_val = float(value)\n",
        "bool_val = bool(value)\n",
        "\n",
        "print(\"Integer:\", int_val)\n",
        "print(\"Float:\", float_val)\n",
        "print(\"Boolean:\", bool_val)\n"
      ],
      "metadata": {
        "colab": {
          "base_uri": "https://localhost:8080/"
        },
        "id": "aKNVt7ktOefx",
        "outputId": "aed00af8-46fa-438f-b18f-ccbb692ab968"
      },
      "execution_count": 7,
      "outputs": [
        {
          "output_type": "stream",
          "name": "stdout",
          "text": [
            "Enter something: 54\n",
            "Integer: 54\n",
            "Float: 54.0\n",
            "Boolean: True\n"
          ]
        }
      ]
    },
    {
      "cell_type": "markdown",
      "source": [
        "10. Write code to demonstrate type casting with list elements."
      ],
      "metadata": {
        "id": "p2CGAHy9OoJY"
      }
    },
    {
      "cell_type": "code",
      "source": [
        "nums = [\"1\", \"2\", \"3\"]\n",
        "nums_int = [int(x) for x in nums]\n",
        "print(nums_int)\n"
      ],
      "metadata": {
        "colab": {
          "base_uri": "https://localhost:8080/"
        },
        "id": "uAbG7LfEOszx",
        "outputId": "e0cc71f6-2cda-49ad-8b20-bed5f1a0b557"
      },
      "execution_count": 8,
      "outputs": [
        {
          "output_type": "stream",
          "name": "stdout",
          "text": [
            "[1, 2, 3]\n"
          ]
        }
      ]
    },
    {
      "cell_type": "markdown",
      "source": [
        "11. Write a program that checks if a number is positive, negative, or zero"
      ],
      "metadata": {
        "id": "jqbzGV--O054"
      }
    },
    {
      "cell_type": "code",
      "source": [
        "num = float(input(\"Enter a number: \"))\n",
        "\n",
        "if num > 0:\n",
        "    print(\"Positive\")\n",
        "elif num < 0:\n",
        "    print(\"Negative\")\n",
        "else:\n",
        "    print(\"Zero\")\n"
      ],
      "metadata": {
        "colab": {
          "base_uri": "https://localhost:8080/"
        },
        "id": "zgsFyrSyO6mc",
        "outputId": "35d0db3c-6be4-4a06-c200-2b60370b793a"
      },
      "execution_count": 9,
      "outputs": [
        {
          "output_type": "stream",
          "name": "stdout",
          "text": [
            "Enter a number: 55\n",
            "Positive\n"
          ]
        }
      ]
    },
    {
      "cell_type": "markdown",
      "source": [
        "12. Write a for loop to print numbers from 1 to 10."
      ],
      "metadata": {
        "id": "w9ehIadhO_lG"
      }
    },
    {
      "cell_type": "code",
      "source": [
        "for i in range(1, 11):\n",
        "    print(i)\n"
      ],
      "metadata": {
        "id": "tuA4P8vdPDM7"
      },
      "execution_count": null,
      "outputs": []
    },
    {
      "cell_type": "markdown",
      "source": [
        "13. Write a Python program to find the sum of all even numbers between 1 and 50."
      ],
      "metadata": {
        "id": "yYKl5ihPPGPz"
      }
    },
    {
      "cell_type": "code",
      "source": [
        "total = 0\n",
        "for i in range(1, 51):\n",
        "    if i % 2 == 0:\n",
        "        total += i\n",
        "print(\"Sum of even numbers:\", total)\n"
      ],
      "metadata": {
        "colab": {
          "base_uri": "https://localhost:8080/"
        },
        "id": "tQiOGSGDPN6v",
        "outputId": "6e54f2df-e25c-4cc8-878a-59270fd6cf5a"
      },
      "execution_count": 10,
      "outputs": [
        {
          "output_type": "stream",
          "name": "stdout",
          "text": [
            "Sum of even numbers: 650\n"
          ]
        }
      ]
    },
    {
      "cell_type": "markdown",
      "source": [
        "14.  Write a program to reverse a string using a while loop."
      ],
      "metadata": {
        "id": "hJUpc1U3PUcb"
      }
    },
    {
      "cell_type": "code",
      "source": [
        "text = input(\"Enter a string: \")\n",
        "reversed_text = \"\"\n",
        "i = len(text) - 1\n",
        "\n",
        "while i >= 0:\n",
        "    reversed_text += text[i]\n",
        "    i -= 1\n",
        "\n",
        "print(\"Reversed string:\", reversed_text)\n"
      ],
      "metadata": {
        "colab": {
          "base_uri": "https://localhost:8080/"
        },
        "id": "MlqULbdZPapy",
        "outputId": "143508dc-95c1-46d9-df4c-1916591b4974"
      },
      "execution_count": 11,
      "outputs": [
        {
          "output_type": "stream",
          "name": "stdout",
          "text": [
            "Enter a string: simar\n",
            "Reversed string: ramis\n"
          ]
        }
      ]
    },
    {
      "cell_type": "markdown",
      "source": [
        "15.  Write a Python program to calculate the factorial of a number provided by the user using a while loop"
      ],
      "metadata": {
        "id": "NeEOE79HPgw6"
      }
    },
    {
      "cell_type": "code",
      "source": [
        "num = int(input(\"Enter a number: \"))\n",
        "factorial = 1\n",
        "i = 1\n",
        "\n",
        "while i <= num:\n",
        "    factorial *= i\n",
        "    i += 1\n",
        "\n",
        "print(\"Factorial:\", factorial)\n"
      ],
      "metadata": {
        "colab": {
          "base_uri": "https://localhost:8080/"
        },
        "id": "vkXWszvcPncz",
        "outputId": "ee79d00f-83ab-48a7-d2ac-455dae962c6c"
      },
      "execution_count": 14,
      "outputs": [
        {
          "output_type": "stream",
          "name": "stdout",
          "text": [
            "Enter a number: 9\n",
            "Factorial: 362880\n"
          ]
        }
      ]
    }
  ]
}